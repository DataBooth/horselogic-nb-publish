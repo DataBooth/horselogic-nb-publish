{
 "cells": [
  {
   "cell_type": "raw",
   "metadata": {
    "vscode": {
     "languageId": "raw"
    }
   },
   "source": [
    "---\n",
    "title: \"CB Database Example Queries\"\n",
    "subtitle: \"Experimental data analysis (Oct / Nov 2023)\"\n",
    "date: \"now\"\n",
    "date-format: \"ddd MMM D, YYYY h:mm A\"\n",
    "author:\n",
    "  - name: \"Cathrynne Henshall\"\n",
    "    email: ponies@hillydale.com.au\n",
    "    affiliation: \n",
    "      - name: Charles Sturt University\n",
    "        url: www.csu.edu.au\n",
    "  - name: \"Michael J. Booth\"\n",
    "    email: michael@databooth.com.au\n",
    "    affiliation: \n",
    "      - name: DataBooth\n",
    "        url: www.databooth.com.au\n",
    "abstract: >\n",
    "  Querying the data from the database\n",
    "title-block-banner: true\n",
    "format:\n",
    "  html:\n",
    "    code-tools: true\n",
    "    code-fold: false\n",
    "    toc: true\n",
    "#  docx:\n",
    "#    toc: true # Include a table of contents\n",
    "execute:\n",
    "  enabled: true\n",
    "---"
   ]
  },
  {
   "cell_type": "markdown",
   "metadata": {},
   "source": [
    "## Purpose of This Notebook\n",
    "\n",
    "This notebook serves as an exploratory tool for examining the log file data from the horse behavioural experiments conducted in October and November 2023 that are loaded into a local DuckDB database using `logfile-to-database-CB.ipynb`.\n",
    "\n",
    "It facilitates loading and querying the data from the database using some example SQL queries.\n",
    "\n"
   ]
  },
  {
   "cell_type": "markdown",
   "metadata": {},
   "source": [
    "### Setup"
   ]
  },
  {
   "cell_type": "code",
   "execution_count": null,
   "metadata": {},
   "outputs": [],
   "source": [
    "# | echo: false\n",
    "\n",
    "from pathlib import Path\n",
    "from pprint import pprint\n",
    "\n",
    "import duckdb\n",
    "import pandas as pd\n",
    "from IPython.display import Markdown, display\n",
    "from loguru import logger\n",
    "\n",
    "from horse_logic.utils import set_custom_logger_format"
   ]
  },
  {
   "cell_type": "code",
   "execution_count": null,
   "metadata": {},
   "outputs": [],
   "source": [
    "# | echo: false\n",
    "\n",
    "# Display dataframes in a more friendly paginated manner\n",
    "\n",
    "import itables.options as opt\n",
    "from itables import init_notebook_mode\n",
    "\n",
    "init_notebook_mode(all_interactive=True)\n",
    "opt.pageLength = 20"
   ]
  },
  {
   "cell_type": "code",
   "execution_count": null,
   "metadata": {},
   "outputs": [],
   "source": [
    "# | echo: false\n",
    "\n",
    "set_custom_logger_format()"
   ]
  },
  {
   "cell_type": "markdown",
   "metadata": {},
   "source": [
    "### Database information"
   ]
  },
  {
   "cell_type": "code",
   "execution_count": null,
   "metadata": {},
   "outputs": [],
   "source": [
    "# | echo: false\n",
    "\n",
    "DATA_DIR = Path(\"../data\")\n",
    "EXPERIMENT_TYPE = \"CB\"\n",
    "\n",
    "assert DATA_DIR.exists()\n",
    "\n",
    "DATA_DB = DATA_DIR / f\"Experiments_{EXPERIMENT_TYPE}_2023-Q4.ddb\"  # DuckDB database name\n",
    "db_exists = DATA_DB.exists()\n",
    "\n",
    "logger.info(f\"Database file: {DATA_DB.resolve()}\")"
   ]
  },
  {
   "cell_type": "markdown",
   "metadata": {},
   "source": [
    "### Connect to database"
   ]
  },
  {
   "cell_type": "code",
   "execution_count": null,
   "metadata": {},
   "outputs": [],
   "source": [
    "# | echo: false\n",
    "\n",
    "\n",
    "def connect_ddb(database=DATA_DB):\n",
    "    try:\n",
    "        if db_exists:\n",
    "            con = duckdb.connect(database=str(database))\n",
    "            logger.info(f\"CONNECTED - Database file: {database.resolve()}\")\n",
    "            return con\n",
    "        else:\n",
    "            logger.error(f\"Database file: {database.resolve()} not found.\")\n",
    "    except Exception as e:\n",
    "        print(\n",
    "            f\"Error with Database file: {database.resolve()} - Is database already open - check for .wal lock file?\"\n",
    "        )\n",
    "        logger.error(f\"{e}\")\n",
    "    return None\n",
    "\n",
    "\n",
    "con = connect_ddb()"
   ]
  },
  {
   "cell_type": "markdown",
   "metadata": {},
   "source": [
    "### Perform some example database queries (local DuckDB) "
   ]
  },
  {
   "cell_type": "markdown",
   "metadata": {},
   "source": [
    "Show the tables in the database - should be `EventCBs`, `ExperimentCBs`, `ResponseCBs` and `TrialCBs`."
   ]
  },
  {
   "cell_type": "code",
   "execution_count": null,
   "metadata": {},
   "outputs": [],
   "source": [
    "# Cross-check queries\n",
    "\n",
    "con.sql(\"SHOW TABLES;\")"
   ]
  },
  {
   "cell_type": "markdown",
   "metadata": {},
   "source": [
    "### Show the distinct `EventTypes` in alphabetical order"
   ]
  },
  {
   "cell_type": "code",
   "execution_count": null,
   "metadata": {},
   "outputs": [],
   "source": [
    "con.sql(\"SELECT DISTINCT EventType FROM EventCBs ORDER BY EventType\")"
   ]
  },
  {
   "cell_type": "markdown",
   "metadata": {},
   "source": [
    "### List all of the Experiments"
   ]
  },
  {
   "cell_type": "code",
   "execution_count": null,
   "metadata": {},
   "outputs": [],
   "source": [
    "experiments_df = con.sql(\"SELECT * FROM ExperimentCBs\").df()"
   ]
  },
  {
   "cell_type": "code",
   "execution_count": null,
   "metadata": {},
   "outputs": [],
   "source": [
    "experiments_df;"
   ]
  },
  {
   "cell_type": "markdown",
   "metadata": {},
   "source": [
    "### List of all the log filenames"
   ]
  },
  {
   "cell_type": "code",
   "execution_count": null,
   "metadata": {},
   "outputs": [],
   "source": [
    "filenames_df = con.sql(\"SELECT LogFilename from ExperimentCBs ORDER By LogFilename\").df()"
   ]
  },
  {
   "cell_type": "code",
   "execution_count": null,
   "metadata": {},
   "outputs": [],
   "source": [
    "filenames_df.iloc[0, 0]"
   ]
  },
  {
   "cell_type": "markdown",
   "metadata": {},
   "source": [
    "### Reconstruct the trial/event/response details for a particular experiment (via log filename)"
   ]
  },
  {
   "cell_type": "code",
   "execution_count": null,
   "metadata": {},
   "outputs": [],
   "source": [
    "def display_file_contents(file_path):\n",
    "    try:\n",
    "        with open(file_path, \"r\") as file:\n",
    "            contents = file.read()\n",
    "            print(contents)\n",
    "    except FileNotFoundError:\n",
    "        print(f\"Error: The file '{file_path}' was not found.\")\n",
    "    except IOError:\n",
    "        print(f\"Error: There was an issue reading the file '{file_path}'.\")"
   ]
  },
  {
   "cell_type": "code",
   "execution_count": null,
   "metadata": {},
   "outputs": [],
   "source": [
    "example_log = DATA_DIR / \"results\" / \"zips\" / \"cb_data\" / filenames_df.iloc[0, 0]"
   ]
  },
  {
   "cell_type": "code",
   "execution_count": null,
   "metadata": {},
   "outputs": [],
   "source": [
    "def sql_recreate_logfile(filename):\n",
    "    return f\"\"\"\n",
    "        WITH log_events AS (\n",
    "        SELECT \n",
    "            e.EventTime,\n",
    "            e.EventType,\n",
    "            t.TrialNumber,\n",
    "            t.ResponseType,\n",
    "            t.TrialSubType,\n",
    "            r.ResponseTime\n",
    "        FROM EventCBs e\n",
    "        LEFT JOIN TrialCBs t ON e.TrialID = t.TrialID\n",
    "        LEFT JOIN ResponseCBs r ON e.TrialID = r.TrialID\n",
    "        JOIN ExperimentCBs ex ON t.ExperimentID = ex.ExperimentID\n",
    "        WHERE ex.LogFileName = '{filename}'\n",
    "        ORDER BY e.EventTime\n",
    "        )\n",
    "        SELECT \n",
    "        strftime('%Y-%m-%d %H:%M:%S.%f', EventTime) || ': ' ||\n",
    "        CASE \n",
    "            WHEN EventType LIKE 'GO for Trial%' OR EventType LIKE 'NOGO for Trial%'\n",
    "            THEN EventType || \n",
    "                CASE \n",
    "                    WHEN ResponseTime IS NOT NULL THEN ' - response time ' || CAST(ResponseTime AS TEXT)\n",
    "                    ELSE ''\n",
    "                END\n",
    "            ELSE EventType\n",
    "        END AS {sanitize_filename_for_sql(filename)}\n",
    "        FROM log_events;\n",
    "    \"\"\""
   ]
  },
  {
   "cell_type": "code",
   "execution_count": null,
   "metadata": {},
   "outputs": [],
   "source": [
    "example_log.name"
   ]
  },
  {
   "cell_type": "code",
   "execution_count": null,
   "metadata": {},
   "outputs": [],
   "source": [
    "import re\n",
    "\n",
    "def sanitize_filename_for_sql(filename):\n",
    "    # Remove the file extension\n",
    "    name_without_ext = filename.rsplit('.', 1)[0]\n",
    "    \n",
    "    # Replace spaces and hyphens with underscores\n",
    "    name_underscored = name_without_ext.replace(' ', '_').replace('-', '_')\n",
    "    \n",
    "    # Remove any characters that are not alphanumeric or underscore\n",
    "    sanitized = re.sub(r'[^\\w]', '', name_underscored)\n",
    "    \n",
    "    # Ensure the name starts with a letter or underscore\n",
    "    if not sanitized[0].isalpha() and sanitized[0] != '_':\n",
    "        sanitized = '_' + sanitized\n",
    "    \n",
    "    # Truncate to a reasonable length if needed (e.g., 63 characters)\n",
    "    sanitized = sanitized[:63]\n",
    "    \n",
    "    return sanitized"
   ]
  },
  {
   "cell_type": "code",
   "execution_count": null,
   "metadata": {},
   "outputs": [],
   "source": [
    "sql_recreate_logfile(example_log.name)"
   ]
  },
  {
   "cell_type": "code",
   "execution_count": null,
   "metadata": {},
   "outputs": [],
   "source": [
    "con.sql(sql_recreate_logfile(example_log.name))"
   ]
  },
  {
   "cell_type": "code",
   "execution_count": null,
   "metadata": {},
   "outputs": [],
   "source": [
    "data_dir = example_log.parent"
   ]
  },
  {
   "cell_type": "code",
   "execution_count": null,
   "metadata": {},
   "outputs": [],
   "source": [
    "example_log"
   ]
  },
  {
   "cell_type": "code",
   "execution_count": null,
   "metadata": {},
   "outputs": [],
   "source": [
    "# Compare the actual file contents\n",
    "\n",
    "display_file_contents(example_log)"
   ]
  },
  {
   "cell_type": "markdown",
   "metadata": {},
   "source": [
    "#### Deep dives: \n",
    "\n",
    "#### `Experiment_2023-10-09T17:45:46.540359_apollo_5_Training randomised Type 1.log`"
   ]
  },
  {
   "cell_type": "code",
   "execution_count": null,
   "metadata": {},
   "outputs": [],
   "source": [
    "deep_dive_filename = \"Experiment_2023-10-09T17:45:46.540359_apollo_5_Training randomised Type 1.log\""
   ]
  },
  {
   "cell_type": "code",
   "execution_count": null,
   "metadata": {},
   "outputs": [],
   "source": [
    "def get_experiment_details(filename):\n",
    "    query = f\"\"\"\n",
    "        SELECT\n",
    "            ExperimentID, \n",
    "            Cohort,\n",
    "            SubjectName, \n",
    "            SubjectNumber, \n",
    "            SessionNumber,\n",
    "            ExperimentType, \n",
    "            Comment, \n",
    "            DateTime, \n",
    "            LogFileName\n",
    "        FROM ExperimentCBs \n",
    "        WHERE LogFileName = '{filename}';\n",
    "    \"\"\"\n",
    "    return con.sql(query).df()"
   ]
  },
  {
   "cell_type": "code",
   "execution_count": null,
   "metadata": {},
   "outputs": [],
   "source": [
    "def get_trials_details(filename):\n",
    "    query = f\"\"\"\n",
    "        SELECT t.*\n",
    "        FROM TrialCBs t\n",
    "        JOIN ExperimentCBs e ON t.ExperimentID = e.ExperimentID\n",
    "        WHERE e.LogFileName = '{filename}';\n",
    "    \"\"\"\n",
    "    return con.sql(query).df()"
   ]
  },
  {
   "cell_type": "code",
   "execution_count": null,
   "metadata": {},
   "outputs": [],
   "source": [
    "def get_events_details(filename):\n",
    "    query = f\"\"\"\n",
    "        SELECT ev.*\n",
    "        FROM EventCBs ev\n",
    "        JOIN TrialCBs t ON ev.TrialID = t.TrialID\n",
    "        JOIN ExperimentCBs e ON t.ExperimentID = e.ExperimentID\n",
    "        WHERE e.LogFileName = '{filename}';\n",
    "    \"\"\"\n",
    "    return con.sql(query).df()"
   ]
  },
  {
   "cell_type": "code",
   "execution_count": null,
   "metadata": {},
   "outputs": [],
   "source": [
    "def get_responses_details(filename):\n",
    "    query = f\"\"\"\n",
    "        SELECT r.*,\n",
    "        t.TrialNumber,\n",
    "        t.ResponseType,\n",
    "        t.TrialSubType,\n",
    "        t.Direction,\n",
    "        t.CriterionType,\n",
    "        t.CriterionCount,\n",
    "        t.TrialStartTime,\n",
    "        t.TrialEndTime,\n",
    "        t.SessionType\n",
    "        FROM ResponseCBs r\n",
    "        JOIN TrialCBs t ON r.TrialID = t.TrialID\n",
    "        JOIN ExperimentCBs e ON t.ExperimentID = e.ExperimentID\n",
    "        WHERE e.LogFileName = '{filename}';\n",
    "    \"\"\"\n",
    "    return con.sql(query).df()"
   ]
  },
  {
   "cell_type": "code",
   "execution_count": null,
   "metadata": {},
   "outputs": [],
   "source": [
    "def compare_experiment_data(filename):\n",
    "    display(Markdown(f\"### Compare: {filename}\"))\n",
    "    display(get_experiment_details(filename))\n",
    "    display(get_trials_details(filename))\n",
    "    display(get_events_details(filename))  \n",
    "    display(get_responses_details(filename))\n",
    "    display(Markdown(\"### Original logfile\\n\"))\n",
    "    display_file_contents(data_dir / filename)\n",
    "    "
   ]
  },
  {
   "cell_type": "code",
   "execution_count": null,
   "metadata": {},
   "outputs": [],
   "source": [
    "compare_experiment_data(deep_dive_filename)"
   ]
  },
  {
   "cell_type": "code",
   "execution_count": null,
   "metadata": {},
   "outputs": [],
   "source": [
    "compare_experiment_data(\"Experiment_2023-10-11T10:26:14.965471_atom_8_Test Type 1.log\")"
   ]
  },
  {
   "cell_type": "markdown",
   "metadata": {},
   "source": [
    "### Close the connection to the database\n",
    "\n",
    "To avoid file lock errors."
   ]
  },
  {
   "cell_type": "code",
   "execution_count": null,
   "metadata": {},
   "outputs": [],
   "source": [
    "# con.close()"
   ]
  },
  {
   "cell_type": "code",
   "execution_count": null,
   "metadata": {},
   "outputs": [],
   "source": []
  },
  {
   "cell_type": "code",
   "execution_count": null,
   "metadata": {},
   "outputs": [],
   "source": []
  },
  {
   "cell_type": "code",
   "execution_count": null,
   "metadata": {},
   "outputs": [],
   "source": []
  },
  {
   "cell_type": "code",
   "execution_count": null,
   "metadata": {},
   "outputs": [],
   "source": []
  },
  {
   "cell_type": "code",
   "execution_count": null,
   "metadata": {},
   "outputs": [],
   "source": []
  },
  {
   "cell_type": "markdown",
   "metadata": {},
   "source": [
    "\n",
    "### Potential prototype queries\n",
    "```\n",
    "SELECT AVG(r.ResponseTime) as AvgResponseTime\n",
    "FROM Trial t\n",
    "JOIN Response r ON t.TrialID = r.TrialID\n",
    "WHERE t.ExperimentID = 1 AND t.ResponseType = 'GO';\n",
    "```\n",
    "```\n",
    "SELECT TrialSubType, COUNT(*) as SuccessfulTrials\n",
    "FROM Trial\n",
    "WHERE CriterionType = 'positive'\n",
    "GROUP BY TrialSubType;\n",
    "```\n",
    "Experiment duration\n",
    "\n",
    "```\n",
    "SELECT \n",
    "    e.ExperimentID,\n",
    "    MIN(ev.EventTime) as StartTime,\n",
    "    MAX(ev.EventTime) as EndTime,\n",
    "    TIMESTAMPDIFF(SECOND, MIN(ev.EventTime), MAX(ev.EventTime)) as DurationSeconds\n",
    "FROM Experiment e\n",
    "JOIN Trial t ON e.ExperimentID = t.ExperimentID\n",
    "JOIN Event ev ON t.TrialID = ev.TrialID\n",
    "GROUP BY e.ExperimentID;\n",
    "```"
   ]
  },
  {
   "cell_type": "markdown",
   "metadata": {},
   "source": []
  }
 ],
 "metadata": {
  "kernelspec": {
   "display_name": ".venv",
   "language": "python",
   "name": "python3"
  },
  "language_info": {
   "codemirror_mode": {
    "name": "ipython",
    "version": 3
   },
   "file_extension": ".py",
   "mimetype": "text/x-python",
   "name": "python",
   "nbconvert_exporter": "python",
   "pygments_lexer": "ipython3",
   "version": "3.10.12"
  }
 },
 "nbformat": 4,
 "nbformat_minor": 2
}
