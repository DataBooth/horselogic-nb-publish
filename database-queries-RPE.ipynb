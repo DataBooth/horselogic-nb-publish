{
 "cells": [
  {
   "cell_type": "raw",
   "metadata": {
    "vscode": {
     "languageId": "raw"
    }
   },
   "source": [
    "---\n",
    "title: \"RPE Database Example Queries\"\n",
    "subtitle: \"Experimental data analysis (Oct / Nov 2023)\"\n",
    "date: \"now\"\n",
    "date-format: \"ddd MMM D, YYYY h:mm A\"\n",
    "author:\n",
    "  - name: \"Cathrynne Henshall\"\n",
    "    email: ponies@hillydale.com.au\n",
    "    affiliation: \n",
    "      - name: Charles Sturt University\n",
    "        url: www.csu.edu.au\n",
    "  - name: \"Michael J. Booth\"\n",
    "    email: michael@databooth.com.au\n",
    "    affiliation: \n",
    "      - name: DataBooth\n",
    "        url: www.databooth.com.au\n",
    "abstract: >\n",
    "  Querying the data from the database\n",
    "title-block-banner: true\n",
    "format:\n",
    "  html:\n",
    "    code-tools: true\n",
    "    code-fold: false\n",
    "    toc: true\n",
    "#  docx:\n",
    "#    toc: true # Include a table of contents\n",
    "execute:\n",
    "  enabled: true\n",
    "---"
   ]
  },
  {
   "cell_type": "markdown",
   "metadata": {},
   "source": [
    "## Purpose of This Notebook\n",
    "\n",
    "This notebook serves as an exploratory tool for examining the log file data from the horse behavioural experiments conducted in October and November 2023 that are loaded into a local DuckDB database using `logfile-to-database-RPE.ipynb`.\n",
    "\n",
    "It facilitates loading and querying the data from the database using some example SQL queries.\n",
    "\n"
   ]
  },
  {
   "cell_type": "markdown",
   "metadata": {},
   "source": [
    "### Setup"
   ]
  },
  {
   "cell_type": "code",
   "execution_count": null,
   "metadata": {},
   "outputs": [],
   "source": [
    "# | echo: false\n",
    "\n",
    "from pathlib import Path\n",
    "from pprint import pprint\n",
    "\n",
    "import duckdb\n",
    "import pandas as pd\n",
    "from IPython.display import Markdown, display\n",
    "from loguru import logger\n",
    "\n",
    "from horse_logic.utils import set_custom_logger_format"
   ]
  },
  {
   "cell_type": "code",
   "execution_count": null,
   "metadata": {},
   "outputs": [],
   "source": [
    "# | echo: false\n",
    "\n",
    "# Display dataframes in a more friendly paginated manner\n",
    "\n",
    "import itables.options as opt\n",
    "from itables import init_notebook_mode\n",
    "init_notebook_mode(all_interactive=True)  \n",
    "opt.pageLength = 20\n"
   ]
  },
  {
   "cell_type": "code",
   "execution_count": null,
   "metadata": {},
   "outputs": [],
   "source": [
    "# | echo: false\n",
    "\n",
    "set_custom_logger_format()"
   ]
  },
  {
   "cell_type": "markdown",
   "metadata": {},
   "source": [
    "### Database information"
   ]
  },
  {
   "cell_type": "code",
   "execution_count": null,
   "metadata": {},
   "outputs": [],
   "source": [
    "# | echo: false\n",
    "\n",
    "DATA_DIR = Path(\"../data\")\n",
    "EXPERIMENT_TYPE = \"RPE\"\n",
    "\n",
    "assert DATA_DIR.exists()\n",
    "\n",
    "DATA_DB  = DATA_DIR / f\"Experiments_{EXPERIMENT_TYPE}_2023-Q4.ddb\"  # DuckDB database name\n",
    "db_exists = DATA_DB.exists()\n",
    "\n",
    "logger.info(f\"Database file: {DATA_DB.resolve()}\")"
   ]
  },
  {
   "cell_type": "markdown",
   "metadata": {},
   "source": [
    "### Connect to database"
   ]
  },
  {
   "cell_type": "code",
   "execution_count": null,
   "metadata": {},
   "outputs": [],
   "source": [
    "# | echo: false\n",
    "\n",
    "def connect_ddb(database=DATA_DB):\n",
    "    try:\n",
    "        if db_exists:  \n",
    "            con = duckdb.connect(database=str(database))\n",
    "        else:\n",
    "            logger.error(f\"Database file: {database.resolve()} not found.\")\n",
    "    except Exception as e:\n",
    "        print(f\"Error with Database file: {database.resolve()} - Is database already open - check for .wal lock file?\")\n",
    "        logger.error(f\"{e}\")\n",
    "    logger.info(f\"CONNECTED - Database file: {database.resolve()}\")\n",
    "    return con\n",
    "\n",
    "\n",
    "con = connect_ddb()\n"
   ]
  },
  {
   "cell_type": "markdown",
   "metadata": {},
   "source": [
    "### Perform some example database queries (local DuckDB) "
   ]
  },
  {
   "cell_type": "markdown",
   "metadata": {},
   "source": [
    "Show the tables in the database - should be `Events`, `Experiments` and `Trials`."
   ]
  },
  {
   "cell_type": "code",
   "execution_count": null,
   "metadata": {},
   "outputs": [],
   "source": [
    "# Cross-check queries\n",
    "\n",
    "con.sql(\"SHOW TABLES;\")"
   ]
  },
  {
   "cell_type": "markdown",
   "metadata": {},
   "source": [
    "### Show the distinct `EventTypes` in alphabetical order"
   ]
  },
  {
   "cell_type": "code",
   "execution_count": null,
   "metadata": {},
   "outputs": [],
   "source": [
    "con.sql(\"SELECT DISTINCT EventType FROM Events ORDER BY EventType\")"
   ]
  },
  {
   "cell_type": "markdown",
   "metadata": {},
   "source": [
    "### List all of the Experiments"
   ]
  },
  {
   "cell_type": "code",
   "execution_count": null,
   "metadata": {},
   "outputs": [],
   "source": [
    "experiments_df = con.sql(\"SELECT * FROM Experiments\").df()"
   ]
  },
  {
   "cell_type": "code",
   "execution_count": null,
   "metadata": {},
   "outputs": [],
   "source": [
    "experiments_df"
   ]
  },
  {
   "cell_type": "markdown",
   "metadata": {},
   "source": [
    "### Get the information for Experiment with ID = 128 (the arbitrary id assigned when loaded)"
   ]
  },
  {
   "cell_type": "code",
   "execution_count": null,
   "metadata": {},
   "outputs": [],
   "source": [
    "con.sql(\n",
    "    \"\"\"\n",
    "    SELECT\n",
    "        ExperimentID, \n",
    "        Cohort,\n",
    "        SubjectName, \n",
    "        SubjectNumber, \n",
    "        SessionNumber,\n",
    "        ExperimentType, \n",
    "        Comment, \n",
    "        DateTime, \n",
    "        LogFileName\n",
    "    FROM Experiments \n",
    "    WHERE ExperimentID = 128;\n",
    "\"\"\"\n",
    ").df()"
   ]
  },
  {
   "cell_type": "markdown",
   "metadata": {},
   "source": [
    "### Reconstruct the event information for a specific experiment"
   ]
  },
  {
   "cell_type": "code",
   "execution_count": null,
   "metadata": {},
   "outputs": [],
   "source": [
    "con.sql(\"\"\"\n",
    "    SELECT \n",
    "        -- Trials.TrialID,\n",
    "        Trials.TrialNumber,\n",
    "        -- TrialStartTime,\n",
    "        -- TrialEndTime,\n",
    "        -- EventID, \n",
    "        EventNumber, \n",
    "        EventTime, \n",
    "        EventType,\n",
    "        EventElapsedTime\n",
    "    FROM Experiments\n",
    "    INNER JOIN Trials ON Experiments.ExperimentID = Trials.ExperimentID\n",
    "    INNER JOIN Events ON Trials.TrialID = Events.TrialID\n",
    "    WHERE Experiments.ExperimentID = 128;\n",
    "\"\"\").df()"
   ]
  },
  {
   "cell_type": "markdown",
   "metadata": {},
   "source": [
    "### Reconstruct the event information for a specific subject (gio) and session number (2)"
   ]
  },
  {
   "cell_type": "code",
   "execution_count": null,
   "metadata": {},
   "outputs": [],
   "source": [
    "con.sql(\"\"\"\n",
    "    SELECT \n",
    "        -- Experiments.SubjectName,\n",
    "        -- Experiments.SessionNumber,\n",
    "        -- Trials.TrialID,\n",
    "        Trials.TrialNumber,\n",
    "        -- TrialStartTime,\n",
    "        -- TrialEndTime,\n",
    "        -- EventID, \n",
    "        EventNumber, \n",
    "        EventTime, \n",
    "        EventType,\n",
    "        EventElapsedTime\n",
    "    FROM Experiments\n",
    "    INNER JOIN Trials ON Experiments.ExperimentID = Trials.ExperimentID\n",
    "    INNER JOIN Events ON Trials.TrialID = Events.TrialID\n",
    "    WHERE Experiments.SubjectName = 'gio' AND  Experiments.SessionNumber = 2;\n",
    "\"\"\").df()"
   ]
  },
  {
   "cell_type": "markdown",
   "metadata": {},
   "source": [
    "### Close the connection to the database\n",
    "\n",
    "To avoid file lock errors."
   ]
  },
  {
   "cell_type": "code",
   "execution_count": null,
   "metadata": {},
   "outputs": [],
   "source": [
    "con.close()"
   ]
  },
  {
   "cell_type": "code",
   "execution_count": null,
   "metadata": {},
   "outputs": [],
   "source": []
  }
 ],
 "metadata": {
  "kernelspec": {
   "display_name": ".venv",
   "language": "python",
   "name": "python3"
  },
  "language_info": {
   "codemirror_mode": {
    "name": "ipython",
    "version": 3
   },
   "file_extension": ".py",
   "mimetype": "text/x-python",
   "name": "python",
   "nbconvert_exporter": "python",
   "pygments_lexer": "ipython3",
   "version": "3.10.12"
  }
 },
 "nbformat": 4,
 "nbformat_minor": 2
}
